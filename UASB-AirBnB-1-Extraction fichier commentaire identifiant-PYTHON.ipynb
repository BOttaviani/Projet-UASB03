       "    </tr>\n",
       "  </tbody>\n",
       "</table>\n",
       "</div>"
      ],
      "text/plain": [
       "          _id                                           comments\n",
       "5    17799682  Nous n'avons pas croisé Aurélie qui était hors...\n",
       "38  103496190  Très bon accueil  et tres attentionnée  La pro...\n",
       "40   55808517  Un grand studio , avec tout le confort nécessa...\n",
       "41   59437146  Studio très confortable, bien aménagé et jolim...\n",
       "43   12388077  Très satisfait de la location de cet apparteme..."
      ]
     },
     "execution_count": 28,
     "metadata": {},
     "output_type": "execute_result"
    }
   ],
   "source": [
    "Comment.head()"
   ]
  },
  {
   "cell_type": "code",
   "execution_count": 29,
   "metadata": {},
   "outputs": [],
   "source": [
    "# nettoyage des commentaires\n",
    "Comment['comments']=Comment['comments'].str.strip('\\n')\n",
    "Comment['comments'] = Comment['comments'].astype(str)\n",
    "Comment['comments'] = Comment['comments'].apply(lambda x: x.replace('.',' ').replace('@',' ').replace('+',' ').\n",
    "            replace('&',' ').replace(':',' ').replace(':)',' ').replace('\\\"\\\"',' ').replace(',',' ').\n",
    "            replace('(',' ').replace(')',' ').replace(';',' ').replace('!',' ').replace('  ',' '))"
   ]
  },
  {
   "cell_type": "code",
   "execution_count": 30,
   "metadata": {},
   "outputs": [],
   "source": [
    "Comment.to_csv(\"Data/Commentaires_identifiants_V3\",encoding='utf-8',header=None,sep='£',index=False)"
   ]
  }
 ],
 "metadata": {
  "kernelspec": {
   "display_name": "Python 3",
   "language": "python",
   "name": "python3"
  },
  "language_info": {
   "codemirror_mode": {
    "name": "ipython",
    "version": 3
   },
   "file_extension": ".py",
   "mimetype": "text/x-python",
   "name": "python",
   "nbconvert_exporter": "python",
   "pygments_lexer": "ipython3",
   "version": "3.6.5"
  }
 },
 "nbformat": 4,
 "nbformat_minor": 2
}
